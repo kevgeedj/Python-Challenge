{
 "cells": [
  {
   "cell_type": "code",
   "execution_count": 2,
   "id": "79d4333e-1457-4019-9984-a31446581222",
   "metadata": {
    "tags": []
   },
   "outputs": [],
   "source": [
    "import csv"
   ]
  },
  {
   "cell_type": "code",
   "execution_count": 6,
   "id": "cea0b122-ae66-494d-9fb0-d2e87e4009ac",
   "metadata": {
    "tags": []
   },
   "outputs": [],
   "source": [
    "from pathlib import Path\n",
    "import pandas as pd"
   ]
  },
  {
   "cell_type": "code",
   "execution_count": 4,
   "id": "db6b86f4-27e8-4136-aff2-e61369734d54",
   "metadata": {
    "tags": []
   },
   "outputs": [],
   "source": [
    "csv_file = Path('budget_data.csv')"
   ]
  },
  {
   "cell_type": "code",
   "execution_count": 8,
   "id": "cf17c570-b707-4228-8d95-17f63506ab66",
   "metadata": {
    "tags": []
   },
   "outputs": [
    {
     "data": {
      "text/html": [
       "<div>\n",
       "<style scoped>\n",
       "    .dataframe tbody tr th:only-of-type {\n",
       "        vertical-align: middle;\n",
       "    }\n",
       "\n",
       "    .dataframe tbody tr th {\n",
       "        vertical-align: top;\n",
       "    }\n",
       "\n",
       "    .dataframe thead th {\n",
       "        text-align: right;\n",
       "    }\n",
       "</style>\n",
       "<table border=\"1\" class=\"dataframe\">\n",
       "  <thead>\n",
       "    <tr style=\"text-align: right;\">\n",
       "      <th></th>\n",
       "      <th>Date</th>\n",
       "      <th>Profit/Losses</th>\n",
       "    </tr>\n",
       "  </thead>\n",
       "  <tbody>\n",
       "    <tr>\n",
       "      <th>0</th>\n",
       "      <td>Jan-2010</td>\n",
       "      <td>867884</td>\n",
       "    </tr>\n",
       "    <tr>\n",
       "      <th>1</th>\n",
       "      <td>Feb-2010</td>\n",
       "      <td>984655</td>\n",
       "    </tr>\n",
       "    <tr>\n",
       "      <th>2</th>\n",
       "      <td>Mar-2010</td>\n",
       "      <td>322013</td>\n",
       "    </tr>\n",
       "    <tr>\n",
       "      <th>3</th>\n",
       "      <td>Apr-2010</td>\n",
       "      <td>-69417</td>\n",
       "    </tr>\n",
       "    <tr>\n",
       "      <th>4</th>\n",
       "      <td>May-2010</td>\n",
       "      <td>310503</td>\n",
       "    </tr>\n",
       "  </tbody>\n",
       "</table>\n",
       "</div>"
      ],
      "text/plain": [
       "       Date  Profit/Losses\n",
       "0  Jan-2010         867884\n",
       "1  Feb-2010         984655\n",
       "2  Mar-2010         322013\n",
       "3  Apr-2010         -69417\n",
       "4  May-2010         310503"
      ]
     },
     "execution_count": 8,
     "metadata": {},
     "output_type": "execute_result"
    }
   ],
   "source": [
    "df = pd.read_csv(csv_file)\n",
    "df.head()"
   ]
  },
  {
   "cell_type": "code",
   "execution_count": 11,
   "id": "25f529bd-c6a2-4c59-93a4-19af27a41c17",
   "metadata": {
    "tags": []
   },
   "outputs": [],
   "source": [
    "total_months = 0\n",
    "month_change = []\n",
    "net_change_list= []\n",
    "greatest_increase = [\"\",0]\n",
    "greatest_decrease = [\"\",999999999999999]\n",
    "total_net = 0"
   ]
  },
  {
   "cell_type": "code",
   "execution_count": 13,
   "id": "0a426e24-4cca-4150-af82-9600da04474f",
   "metadata": {
    "tags": []
   },
   "outputs": [],
   "source": [
    "with open(csv_file) as f:\n",
    "    reader = csv.reader(f)\n",
    "    header = next(reader)\n",
    "    \n",
    "    first_row = next(reader)\n",
    "    total_months = total_months + 1\n",
    "    total_net = total_net+int(first_row[1])\n",
    "    prev_net =int(first_row[1])\n",
    "    \n",
    "    for i in reader:\n",
    "        \n",
    "        total_months = total_months+1\n",
    "        total_net = total_net+int(i[1])\n",
    "        \n",
    "        net_change = int(i[1]) - prev_net\n",
    "        prev_net = int(i[1])\n",
    "        net_change_list = net_change_list + [net_change]\n",
    "        month_change = month_change + [i[0]]\n",
    "        \n",
    "        if net_change > greatest_increase[1]:\n",
    "            greatest_increase[0] = i[0]\n",
    "            greatest_increase[1] = net_change\n",
    "            \n",
    "        if net_change < greatest_decrease[1]:\n",
    "            greatest_decrease[0] = i[0]\n",
    "            greatest_decrease[1] = net_change"
   ]
  },
  {
   "cell_type": "code",
   "execution_count": 14,
   "id": "1d8b5479-7555-4741-b958-3f6e73998c9b",
   "metadata": {
    "tags": []
   },
   "outputs": [
    {
     "data": {
      "text/plain": [
       "['Feb-2012', 1926159]"
      ]
     },
     "execution_count": 14,
     "metadata": {},
     "output_type": "execute_result"
    }
   ],
   "source": [
    "greatest_increase"
   ]
  },
  {
   "cell_type": "code",
   "execution_count": 15,
   "id": "31fec43f-32c6-4726-87fc-228f9ecd3778",
   "metadata": {
    "tags": []
   },
   "outputs": [
    {
     "data": {
      "text/plain": [
       "['Sep-2013', -2196167]"
      ]
     },
     "execution_count": 15,
     "metadata": {},
     "output_type": "execute_result"
    }
   ],
   "source": [
    "greatest_decrease"
   ]
  },
  {
   "cell_type": "code",
   "execution_count": 19,
   "id": "de9d7926-5ca8-4dcc-9414-bde51d6bfc16",
   "metadata": {
    "tags": []
   },
   "outputs": [],
   "source": [
    "net_monthly_avg = round(sum(net_change_list) / len(net_change_list),2)"
   ]
  },
  {
   "cell_type": "code",
   "execution_count": 20,
   "id": "0bfc5cb9-20b8-46cc-81b5-c51475805d19",
   "metadata": {
    "tags": []
   },
   "outputs": [
    {
     "data": {
      "text/plain": [
       "-2315.12"
      ]
     },
     "execution_count": 20,
     "metadata": {},
     "output_type": "execute_result"
    }
   ],
   "source": [
    "net_monthly_avg"
   ]
  },
  {
   "cell_type": "code",
   "execution_count": 22,
   "id": "feb49737-2ce3-478a-858d-0479ff389acc",
   "metadata": {
    "tags": []
   },
   "outputs": [],
   "source": [
    "with open('output.txt','w') as txt_file:\n",
    "    txt_file.write('financial analysis\\n')\n",
    "    txt_file.write(f'Total Month: {total_months}\\n')\n",
    "    txt_file.write(f'Total : {total_net}\\n')\n",
    "    txt_file.write(f'Avergae Monthly Change :{net_monthly_avg}\\n')\n",
    "    txt_file.write(f'Greatest Profit, month : {greatest_increase[0]}, profit : {greatest_increase[1]}\\n')\n",
    "    txt_file.write(f'Greatest Loss , month : {greatest_decrease[0]}, loss : {greatest_decrease[1]}')"
   ]
  },
  {
   "cell_type": "code",
   "execution_count": null,
   "id": "f6b221e7-375a-4df0-be95-b7ad228fa0cb",
   "metadata": {},
   "outputs": [],
   "source": []
  }
 ],
 "metadata": {
  "kernelspec": {
   "display_name": "Python 3 (ipykernel)",
   "language": "python",
   "name": "python3"
  },
  "language_info": {
   "codemirror_mode": {
    "name": "ipython",
    "version": 3
   },
   "file_extension": ".py",
   "mimetype": "text/x-python",
   "name": "python",
   "nbconvert_exporter": "python",
   "pygments_lexer": "ipython3",
   "version": "3.10.9"
  }
 },
 "nbformat": 4,
 "nbformat_minor": 5
}
