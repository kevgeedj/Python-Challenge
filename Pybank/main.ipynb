{
 "cells": [
  {
   "cell_type": "code",
   "execution_count": 1,
   "id": "6e7c18d9-2b73-4b3f-9494-80d0ec6f7a8e",
   "metadata": {
    "tags": []
   },
   "outputs": [],
   "source": [
    "from pathlib import Path\n",
    "import csv"
   ]
  },
  {
   "cell_type": "code",
   "execution_count": 18,
   "id": "f5b22c51-caac-4c32-a8ce-ca3abc60f871",
   "metadata": {
    "tags": []
   },
   "outputs": [],
   "source": [
    "csvpath = 'budget_data.csv'"
   ]
  },
  {
   "cell_type": "code",
   "execution_count": 21,
   "id": "28944d92-485f-46f5-a0ec-a72076f699a1",
   "metadata": {
    "tags": []
   },
   "outputs": [
    {
     "name": "stdout",
     "output_type": "stream",
     "text": [
      "main.ipynb\n"
     ]
    }
   ],
   "source": [
    "!ls"
   ]
  },
  {
   "cell_type": "code",
   "execution_count": 19,
   "id": "33fbee3c-9e59-447d-acaa-2862d520bb8a",
   "metadata": {},
   "outputs": [],
   "source": [
    "# Variables definitions\n",
    "total_months = 0\n",
    "month_of_change_list = []\n",
    "net_change_list = []\n",
    "greatest_increase = [\"\", 0]\n",
    "greatest_decrease = [\"\",9999999999999]\n",
    "total_net = 0"
   ]
  },
  {
   "cell_type": "code",
   "execution_count": 20,
   "id": "2c35c63c-bd2a-4adc-9e76-de3e05f4ffa4",
   "metadata": {},
   "outputs": [
    {
     "ename": "FileNotFoundError",
     "evalue": "[Errno 2] No such file or directory: 'budget_data.csv'",
     "output_type": "error",
     "traceback": [
      "\u001b[0;31m---------------------------------------------------------------------------\u001b[0m",
      "\u001b[0;31mFileNotFoundError\u001b[0m                         Traceback (most recent call last)",
      "Cell \u001b[0;32mIn[20], line 2\u001b[0m\n\u001b[1;32m      1\u001b[0m \u001b[38;5;66;03m# Read csv file\u001b[39;00m\n\u001b[0;32m----> 2\u001b[0m \u001b[38;5;28;01mwith\u001b[39;00m \u001b[38;5;28;43mopen\u001b[39;49m\u001b[43m(\u001b[49m\u001b[43mcsvpath\u001b[49m\u001b[43m,\u001b[49m\u001b[43m \u001b[49m\u001b[38;5;124;43m\"\u001b[39;49m\u001b[38;5;124;43mr\u001b[39;49m\u001b[38;5;124;43m\"\u001b[39;49m\u001b[43m)\u001b[49m \u001b[38;5;28;01mas\u001b[39;00m csvfile:\n\u001b[1;32m      3\u001b[0m \n\u001b[1;32m      4\u001b[0m     \u001b[38;5;66;03m# Pass in the csv file to the csv.reader() function\u001b[39;00m\n\u001b[1;32m      5\u001b[0m     \u001b[38;5;66;03m# (with ',' as the delmiter/separator) and return the csvreader object\u001b[39;00m\n\u001b[1;32m      6\u001b[0m     csvreader \u001b[38;5;241m=\u001b[39m csv\u001b[38;5;241m.\u001b[39mreader(csvfile, delimiter\u001b[38;5;241m=\u001b[39m\u001b[38;5;124m\"\u001b[39m\u001b[38;5;124m,\u001b[39m\u001b[38;5;124m\"\u001b[39m)\n\u001b[1;32m      8\u001b[0m     \u001b[38;5;66;03m# Read the header row\u001b[39;00m\n",
      "File \u001b[0;32m~/anaconda3/lib/python3.10/site-packages/IPython/core/interactiveshell.py:284\u001b[0m, in \u001b[0;36m_modified_open\u001b[0;34m(file, *args, **kwargs)\u001b[0m\n\u001b[1;32m    277\u001b[0m \u001b[38;5;28;01mif\u001b[39;00m file \u001b[38;5;129;01min\u001b[39;00m {\u001b[38;5;241m0\u001b[39m, \u001b[38;5;241m1\u001b[39m, \u001b[38;5;241m2\u001b[39m}:\n\u001b[1;32m    278\u001b[0m     \u001b[38;5;28;01mraise\u001b[39;00m \u001b[38;5;167;01mValueError\u001b[39;00m(\n\u001b[1;32m    279\u001b[0m         \u001b[38;5;124mf\u001b[39m\u001b[38;5;124m\"\u001b[39m\u001b[38;5;124mIPython won\u001b[39m\u001b[38;5;124m'\u001b[39m\u001b[38;5;124mt let you open fd=\u001b[39m\u001b[38;5;132;01m{\u001b[39;00mfile\u001b[38;5;132;01m}\u001b[39;00m\u001b[38;5;124m by default \u001b[39m\u001b[38;5;124m\"\u001b[39m\n\u001b[1;32m    280\u001b[0m         \u001b[38;5;124m\"\u001b[39m\u001b[38;5;124mas it is likely to crash IPython. If you know what you are doing, \u001b[39m\u001b[38;5;124m\"\u001b[39m\n\u001b[1;32m    281\u001b[0m         \u001b[38;5;124m\"\u001b[39m\u001b[38;5;124myou can use builtins\u001b[39m\u001b[38;5;124m'\u001b[39m\u001b[38;5;124m open.\u001b[39m\u001b[38;5;124m\"\u001b[39m\n\u001b[1;32m    282\u001b[0m     )\n\u001b[0;32m--> 284\u001b[0m \u001b[38;5;28;01mreturn\u001b[39;00m \u001b[43mio_open\u001b[49m\u001b[43m(\u001b[49m\u001b[43mfile\u001b[49m\u001b[43m,\u001b[49m\u001b[43m \u001b[49m\u001b[38;5;241;43m*\u001b[39;49m\u001b[43margs\u001b[49m\u001b[43m,\u001b[49m\u001b[43m \u001b[49m\u001b[38;5;241;43m*\u001b[39;49m\u001b[38;5;241;43m*\u001b[39;49m\u001b[43mkwargs\u001b[49m\u001b[43m)\u001b[49m\n",
      "\u001b[0;31mFileNotFoundError\u001b[0m: [Errno 2] No such file or directory: 'budget_data.csv'"
     ]
    }
   ],
   "source": [
    "# Read csv file\n",
    "with open(csvpath, \"r\") as csvfile:\n",
    "\n",
    "    # Pass in the csv file to the csv.reader() function\n",
    "    # (with ',' as the delmiter/separator) and return the csvreader object\n",
    "    csvreader = csv.reader(csvfile, delimiter=\",\")\n",
    "\n",
    "    # Read the header row\n",
    "    csv_header = next(csvreader)\n",
    "    \n",
    "    # Read first row from the csv file\n",
    "    first_row = next(csvreader)\n",
    "    total_months = total_months + 1\n",
    "    total_net = total_net + int(first_row[1])\n",
    "    prev_net = int(first_row[1])\n",
    "\n",
    "    # Read each row of data after the header and the first row of data\n",
    "    for row in csvreader:\n",
    "        \n",
    "        # Update total months as above\n",
    "        total_months = total_months + 1\n",
    "        # Update total net as above\n",
    "        total_net = total_net+int(first_row[1])\n",
    "        # Get the net change\n",
    "        # The formula is: the current profit/loss of the current row minus the previous net\n",
    "        net_change = int(row[1]) - prev_net\n",
    "        # Update the previous net as above\n",
    "        prev_net = int(row[1])\n",
    "        # Append to the net_change_list the  net change of this row (row[1])\n",
    "        net_change_list = net_change_list + [net_change]\n",
    "        # Append to month_of_change list the current month (row[0])\n",
    "        month_of_change_list = month_of_change_list + [row[0]]\n",
    "        # Calculate the greatest uincrease by using an if statement\n",
    "        # If the net_change is greater thatn the greatest_increase[1]:\n",
    "            # Update greatest_increase month(i.e. [0])\n",
    "            # Update greatest_increase number (i.e., [1])\n",
    "        if net_change > greatest_decrease[1]:\n",
    "            greatest_increase[0] = row[0]\n",
    "            greatest_increase[1] = net_change\n",
    "        # Calculate the greatest decrease by unsing an if statement\n",
    "          # If the net_change is lower thatn the greatest_decrease[1]:\n",
    "            # Update greatest_decrease month(i.e. [0])\n",
    "            # Update greatest_decrease number (i.e., [1])\n",
    "        if net_change < greatest_decrease:\n",
    "            greatest_decrease[0] = row[0]\n",
    "            greatest_decrease[1] = net_change"
   ]
  },
  {
   "cell_type": "code",
   "execution_count": null,
   "id": "e739489a-ef43-45de-bdd3-4af6b31b2850",
   "metadata": {},
   "outputs": [],
   "source": []
  },
  {
   "cell_type": "code",
   "execution_count": null,
   "id": "fc61b778-2aec-4fc0-9dec-8773b263cd21",
   "metadata": {},
   "outputs": [],
   "source": [
    "# Calculate the avergae net change\n",
    "avergae_net_change = # (the sum of net_change_list divided by the length of net_change_list)"
   ]
  },
  {
   "cell_type": "code",
   "execution_count": null,
   "id": "3a2ccc03-57e5-4eb6-ab76-2fd4b6bc69e4",
   "metadata": {},
   "outputs": [],
   "source": [
    "# Export the results to a textfile:\n",
    "with open(\"output.txt\", \"w\") as txt_file:\n",
    "    txt_file.write()\n",
    "    txt_file.write()\n",
    "    "
   ]
  }
 ],
 "metadata": {
  "kernelspec": {
   "display_name": "Python 3 (ipykernel)",
   "language": "python",
   "name": "python3"
  },
  "language_info": {
   "codemirror_mode": {
    "name": "ipython",
    "version": 3
   },
   "file_extension": ".py",
   "mimetype": "text/x-python",
   "name": "python",
   "nbconvert_exporter": "python",
   "pygments_lexer": "ipython3",
   "version": "3.10.9"
  }
 },
 "nbformat": 4,
 "nbformat_minor": 5
}
