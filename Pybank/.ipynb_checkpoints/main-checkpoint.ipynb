{
 "cells": [
  {
   "cell_type": "code",
   "execution_count": 1,
   "id": "6e7c18d9-2b73-4b3f-9494-80d0ec6f7a8e",
   "metadata": {
    "tags": []
   },
   "outputs": [],
   "source": [
    "from pathlib import Path\n",
    "import csv"
   ]
  },
  {
   "cell_type": "code",
   "execution_count": 3,
   "id": "f5b22c51-caac-4c32-a8ce-ca3abc60f871",
   "metadata": {
    "tags": []
   },
   "outputs": [],
   "source": [
    "csvpath = Path(\"budget_data.csv\")"
   ]
  },
  {
   "cell_type": "code",
   "execution_count": 1,
   "id": "33fbee3c-9e59-447d-acaa-2862d520bb8a",
   "metadata": {},
   "outputs": [],
   "source": [
    "# Variables definitions\n",
    "total_months = 0\n",
    "month_of_change_list = []\n",
    "net_change_list = []\n",
    "greatest_increase = [\"\", 0]\n",
    "greatest_decrease = [\"\",9999999999999]\n",
    "total_net = 0"
   ]
  },
  {
   "cell_type": "code",
   "execution_count": null,
   "id": "2c35c63c-bd2a-4adc-9e76-de3e05f4ffa4",
   "metadata": {},
   "outputs": [],
   "source": [
    "# Read csv file\n",
    "with open(csvpath, \"r\") as csvfile:\n",
    "\n",
    "    # Pass in the csv file to the csv.reader() function\n",
    "    # (with ',' as the delmiter/separator) and return the csvreader object\n",
    "    csvreader = csv.reader(csvfile, delimiter=\",\")\n",
    "\n",
    "    # Read the header row\n",
    "    csv_header = next(csvreader)\n",
    "    \n",
    "    # Read first row from the csv file\n",
    "    first_row = next(csvreader)\n",
    "    total_months = total_months + 1\n",
    "    total_net = total_net + int(first_row[1])\n",
    "    prev_net = int(first_row[1])\n",
    "\n",
    "    # Read each row of data after the header and the first row of data\n",
    "    for row in csvreader:\n",
    "        \n",
    "        # Update total months as above\n",
    "        \n",
    "        # Update total net as above\n",
    "        \n",
    "        # Get the net change\n",
    "        # The formula is: the current profit/loss of the current row minus the previous net\n",
    "        \n",
    "        # Update the previous net as above\n",
    "        \n",
    "        # Append to the net_change_list the  net change of this row (row[1])\n",
    "        \n",
    "        # Append to month_of_change list the current month (row[0])\n",
    "        \n",
    "        # Calculate the greatest uincrease by using an if statement\n",
    "        # If the net_change is greater thatn the greatest_increase[1]:\n",
    "            # Update greatest_increase month(i.e. [0])\n",
    "            # Update greatest_increase number (i.e., [1])\n",
    "            \n",
    "        # Calculate the greatest decrease by unsing an if statement\n",
    "          # If the net_change is lower thatn the greatest_decrease[1]:\n",
    "            # Update greatest_decrease month(i.e. [0])\n",
    "            # Update greatest_decrease number (i.e., [1])\n",
    "        "
   ]
  },
  {
   "cell_type": "code",
   "execution_count": null,
   "id": "fc61b778-2aec-4fc0-9dec-8773b263cd21",
   "metadata": {},
   "outputs": [],
   "source": [
    "# Calculate the avergae net change\n",
    "avergae_net_change = # (the sum of net_change_list divided by the length of net_change_list)"
   ]
  },
  {
   "cell_type": "code",
   "execution_count": null,
   "id": "3a2ccc03-57e5-4eb6-ab76-2fd4b6bc69e4",
   "metadata": {},
   "outputs": [],
   "source": [
    "# Export the results to a textfile:\n",
    "with open(\"output.txt\", \"w\") as txt_file:\n",
    "    txt_file.write()\n",
    "    txt_file.write()\n",
    "    "
   ]
  }
 ],
 "metadata": {
  "kernelspec": {
   "display_name": "Python 3 (ipykernel)",
   "language": "python",
   "name": "python3"
  },
  "language_info": {
   "codemirror_mode": {
    "name": "ipython",
    "version": 3
   },
   "file_extension": ".py",
   "mimetype": "text/x-python",
   "name": "python",
   "nbconvert_exporter": "python",
   "pygments_lexer": "ipython3",
   "version": "3.10.9"
  }
 },
 "nbformat": 4,
 "nbformat_minor": 5
}
